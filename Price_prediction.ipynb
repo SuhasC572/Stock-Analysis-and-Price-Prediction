{
  "cells": [
    {
      "cell_type": "markdown",
      "metadata": {
        "id": "ahTDh6-ndPsw"
      },
      "source": [
        "This project seeks to utilize Long-Short Term Memory (LSTM) model, to predict stock prices.\n",
        "We use Keras to build a LSTM model to predict stock prices with historical opening, closing\n",
        "prices and trading volume, and visualize and compare both the predicted price values over\n",
        "time. We also compared the result of linear regression with LSTM."
      ]
    },
    {
      "cell_type": "code",
      "execution_count": null,
      "metadata": {
        "id": "F1ftimh7eCiO"
      },
      "outputs": [],
      "source": [
        "import numpy as np\n",
        "import pandas as pd\n",
        "import matplotlib.pyplot as plt\n",
        "import sklearn\n",
        "import math\n",
        "\n",
        "from sklearn.metrics import mean_squared_error\n",
        "from sklearn.metrics import mean_absolute_percentage_error\n",
        "\n",
        "from math import sqrt\n",
        "from sklearn import preprocessing\n",
        "from sklearn.preprocessing import MinMaxScaler\n",
        "from sklearn.model_selection import TimeSeriesSplit\n",
        "from sklearn import linear_model\n",
        "from sklearn.linear_model import LinearRegression\n",
        "\n",
        "from keras.models import Sequential\n",
        "from keras.layers import Dense\n",
        "from keras.layers import LSTM\n",
        "from keras.layers import Dropout\n",
        "from keras.layers import Activation\n",
        "from keras.utils.vis_utils import plot_model\n",
        "\n",
        "stocks = pd.read_csv('Stock_data.csv')"
      ]
    },
    {
      "cell_type": "code",
      "execution_count": null,
      "metadata": {
        "colab": {
          "base_uri": "https://localhost:8080/",
          "height": 400
        },
        "id": "Wv19rgQ_lUWT",
        "outputId": "39f751be-928a-4a38-ade8-915f02bc5c17"
      },
      "outputs": [],
      "source": [
        "#take ACN as an example\n",
        "stock_data = stocks.loc[stocks['ticker'] == 'ACN']\n",
        "\n",
        "#check raw data\n",
        "print('data shape:', stock_data.shape)\n",
        "print(stock_data.head())\n",
        "\n",
        "#figure of ACN close price \n",
        "df = stock_data['close']\n",
        "df = df.plot( title=\"ACN stock price\")\n",
        "df.set_ylabel(\"Close Price\")\n",
        "\n",
        "plt.show()"
      ]
    },
    {
      "cell_type": "code",
      "execution_count": null,
      "metadata": {
        "id": "4cshfwRvpAqA"
      },
      "outputs": [],
      "source": [
        "#normalization\n",
        "def normalize_data(data, features = ['open','close', 'volume']):\n",
        "  scaler = MinMaxScaler()\n",
        "  data = scaler.fit_transform(data[features])\n",
        "  data = pd.DataFrame(data)\n",
        "  data.columns = features\n",
        "  return data\n"
      ]
    },
    {
      "cell_type": "markdown",
      "metadata": {
        "id": "vTiIIc4SiOnm"
      },
      "source": [
        "Stock price is time-series data as it is collected sequentially in time, and recorded in a specific time interval. Therefore, we apply linear regression to carry out the trend of  closing prices. \n",
        "\n",
        "However, linear regression with time series has a much flatter trend, and is unable to reflect the trend of the stock prices very well. In order to solve this problem, we carried out an improved linear regression algorithm by constructing Simple Moving Average (SMA). SMA, calculated by equation below, is the average price over a specified time period. We use a 30-day moving average as input to predict the close price.\n",
        "\n",
        "\\begin{equation}\n",
        "    SMA = \\frac{1}{n} \\sum_{i=1}^n P_i\n",
        "\\end{equation}"
      ]
    },
    {
      "cell_type": "code",
      "execution_count": null,
      "metadata": {
        "id": "zLXqaDNRsbE3"
      },
      "outputs": [],
      "source": [
        "#split training set and test set for linear regression\n",
        "def split_data_linear(input,output,test_size):\n",
        "    split = int(math.floor(len(data) * test_size))\n",
        "    X_train = input[:-split]\n",
        "    X_test = input[-split:]\n",
        "\n",
        "    y_train = output[:-split]\n",
        "    y_test = output[-split:]\n",
        "    return X_train,X_test,y_train,y_test\n"
      ]
    },
    {
      "cell_type": "code",
      "execution_count": null,
      "metadata": {
        "id": "rhLUtUTWOWV7"
      },
      "outputs": [],
      "source": [
        "#visualize\n",
        "def plot_prediction(actual, prediction = 0, title='Actual vs Prediction', y_label='Price USD', x_label='Trading Days'):\n",
        "    \n",
        "    fig = plt.figure()\n",
        "    ax = fig.add_subplot(111)\n",
        "\n",
        "    plt.ylabel(y_label)\n",
        "    plt.xlabel(x_label)\n",
        "\n",
        "    plt.plot(actual, label='Actual Close')\n",
        "    plt.plot(prediction,  label='Predicted Close')\n",
        "\n",
        "    ax.set_title(title)\n",
        "    ax.legend(loc='upper left')\n",
        "\n",
        "    plt.show()"
      ]
    },
    {
      "cell_type": "code",
      "execution_count": null,
      "metadata": {
        "colab": {
          "base_uri": "https://localhost:8080/",
          "height": 397
        },
        "id": "7gy_D1JHClDC",
        "outputId": "2bda91a6-b0ce-41d1-e219-a15b950330dc"
      },
      "outputs": [],
      "source": [
        "data = normalize_data(stock_data)\n",
        "\n",
        "# create date parameters(for time series model)\n",
        "dates = pd.DataFrame(np.arange(len(data)))\n",
        "data['dates'] = pd.DataFrame(np.arange(len(data)))\n",
        "\n",
        "# create SMA parameters of 30 days(for SMA model)\n",
        "data['day_30'] = data.close.rolling(30, win_type='triang').mean()\n",
        "data = data[30:]\n",
        "data.head()\n",
        "\n",
        "#to build time series model, change features into ['date']\n",
        "features = ['day_30']\n",
        "target = ['close']\n",
        "\n",
        "#split data set\n",
        "X_train, X_test, y_train, y_test = split_data_linear(data[features], data[target],0.1)\n",
        "\n",
        "#check the training set and test set\n",
        "print(\"X_train\",X_train.shape)\n",
        "print(\"y_train\",y_train.shape)\n",
        "print('X_test',X_test.shape)\n",
        "print('y_test',y_test.shape)\n",
        "\n",
        "#build linear model\n",
        "model_linear = linear_model.LinearRegression()\n",
        "model_linear.fit(X_train, y_train)\n",
        "\n",
        "#prediction\n",
        "predictions = model_linear.predict(X_test)\n",
        "y_test = y_test.to_numpy().flatten()\n",
        "\n",
        "#visualize\n",
        "plot_prediction(y_test, predictions)\n",
        "\n",
        "#accuray\n",
        "rms = mean_squared_error(y_test, predictions, squared=False)\n",
        "mape = mean_absolute_percentage_error(y_test, predictions)\n",
        "print('RMSE: '+'%.4f' % rms)\n",
        "print('MAPE: '+'%.4f' % mape)\n"
      ]
    },
    {
      "cell_type": "markdown",
      "metadata": {
        "id": "8nQafZaZvxs-"
      },
      "source": [
        "To solve the problems in linear regression model, we implement LSTM model. First, we\n",
        "dropped some variables, and only consider the opening, closing prices and volume as those\n",
        "are the most important parameters. If we get a higher closing price than the opening price by\n",
        "the end of day, we make profit, otherwise we lose money. The volume of share also matters, as\n",
        "a rising volume indicate a rising market, while increasing stock price with a decreasing volume\n",
        "shows lack of interest, and may imply a potential loss in the future.\n",
        "\n",
        " We pass the last\n",
        "60 days of the data for training the model and output the predicted closing price. As we can\n",
        "see from the figure, predicting done by LSTM performs a better fitting than LSTM with higher\n",
        "accuracy  but there is still space for improvement.\n",
        "In our model, we perform three ways to improve the LSTM model:\n",
        "\n",
        "\n",
        "*   Add hidden layer: adding stacked multi-layers is for extracting more abstract information.\n",
        "\n",
        "*   Add Dropout: adding dropout is a regular method to reduce overfitting and improving model performance.\n",
        "*   Increase epochs: epochs is the times that the learning algorithm will work through the entire training  dataset. "
      ]
    },
    {
      "cell_type": "code",
      "execution_count": null,
      "metadata": {
        "id": "rLjtieeSmqcN"
      },
      "outputs": [],
      "source": [
        "#split training set and test set for LSTM\n",
        "def split_data_lstm(data,test_size, step, prediction):\n",
        "  tmp = test_size + step + 1\n",
        "\n",
        "  X_train = data[0:-prediction - tmp].to_numpy()\n",
        "  y_train = data[prediction : - tmp]['close'].to_numpy()\n",
        "  X_test = data[0 - tmp : -prediction].to_numpy()\n",
        "  y_test = data[prediction - tmp : ]['close'].to_numpy()\n",
        "\n",
        "  return X_train,y_train,X_test,y_test\n",
        "\n",
        "#change the shape\n",
        "def reshape_data_lstm(data,step):\n",
        "  res = []\n",
        "  for i in range(len(data) - step):\n",
        "    res.append(data[i : i + step])\n",
        "  return np.asarray(res)\n",
        "\n",
        "#build basic LSTM\n",
        "def build_basic_model(input_dim, output_dim):\n",
        "    model = Sequential()\n",
        "    model.add(LSTM(input_shape=(None, input_dim),units=output_dim,return_sequences=False))\n",
        "    model.add(LSTM(100,return_sequences=False))\n",
        "    model.add(Dense(units=1))\n",
        "    model.add(Activation('linear'))\n",
        "    plot_model(model, show_shapes=True, show_layer_names=True)\n",
        "    return model\n",
        "\n",
        "#build improved LSTM\n",
        "def build_model(input_dim, output_dim):\n",
        "  model = Sequential()\n",
        "  model.add(LSTM(input_shape = (None, input_dim),units = output_dim, return_sequences = True))\n",
        "  model.add(Dropout(0.2))\n",
        "  model.add(LSTM(128, return_sequences=False))\n",
        "  model.add(Dropout(0.2))\n",
        "  model.add(Dense(units = 1))\n",
        "  model.add(Activation('linear'))\n",
        "  plot_model(model, show_shapes=True, show_layer_names=True)\n",
        "  return model"
      ]
    },
    {
      "cell_type": "code",
      "execution_count": null,
      "metadata": {
        "colab": {
          "base_uri": "https://localhost:8080/"
        },
        "id": "jwcbTBkxwwZv",
        "outputId": "5f61bc03-c66c-4f37-e281-e1b76882ce89"
      },
      "outputs": [],
      "source": [
        "data = normalize_data(stock_data)\n",
        "\n",
        "#some parameters for LSTM\n",
        "test_size = int (data.shape[0] / 10)\n",
        "step = 60\n",
        "prediction = 1\n",
        "\n",
        "#split data set\n",
        "X_train, y_train, X_test, y_test = split_data_lstm(data, test_size, step, prediction)\n",
        "X_train = reshape_data_lstm(X_train, step)\n",
        "X_test = reshape_data_lstm(X_test, step)\n",
        "y_train = y_train[-X_train.shape[0]:]\n",
        "y_test = y_test[-X_test.shape[0]:]\n",
        "\n",
        "#check the training set and test set\n",
        "print(\"x_train\", X_train.shape)\n",
        "print(\"y_train\", y_train.shape)\n",
        "print(\"x_test\", X_test.shape)\n",
        "print(\"y_test\", y_test.shape)"
      ]
    },
    {
      "cell_type": "code",
      "execution_count": null,
      "metadata": {
        "colab": {
          "base_uri": "https://localhost:8080/"
        },
        "id": "m_oZJJKKOzTJ",
        "outputId": "5c5a10a1-a2bb-4ed7-dc1d-467f74d4a72d"
      },
      "outputs": [],
      "source": [
        "#change the model function name here\n",
        "model = build_model(X_train.shape[-1],step)\n",
        "\n",
        "#compile the model\n",
        "model.compile(loss='mean_squared_error', optimizer='adam')\n",
        "model.fit(X_train, y_train, batch_size=100,epochs=100,verbose=2,validation_split=0.05)\n"
      ]
    },
    {
      "cell_type": "code",
      "execution_count": null,
      "metadata": {
        "colab": {
          "base_uri": "https://localhost:8080/",
          "height": 329
        },
        "id": "P7AP8_4wRQH2",
        "outputId": "69497a11-af9d-4eeb-b5ee-c4a2a6c4efce"
      },
      "outputs": [],
      "source": [
        "#display\n",
        "predictions_lstm = model.predict(X_test, batch_size=100)\n",
        "\n",
        "plot_prediction(y_test,predictions_lstm)\n",
        "\n",
        "rms = mean_squared_error(y_test, predictions_lstm, squared=False)\n",
        "mape = mean_absolute_percentage_error(y_test, predictions_lstm)\n",
        "print('RMSE: '+'%.4f' % rms)\n",
        "print('MAPE: '+'%.4f' % mape)\n"
      ]
    }
  ],
  "metadata": {
    "colab": {
      "collapsed_sections": [],
      "name": "Untitled0.ipynb",
      "provenance": []
    },
    "kernelspec": {
      "display_name": "Python 3",
      "name": "python3"
    },
    "language_info": {
      "name": "python"
    }
  },
  "nbformat": 4,
  "nbformat_minor": 0
}
